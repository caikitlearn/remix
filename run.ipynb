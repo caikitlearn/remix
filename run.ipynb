{
 "cells": [
  {
   "cell_type": "code",
   "execution_count": 1,
   "metadata": {},
   "outputs": [],
   "source": [
    "import os\n",
    "\n",
    "from remix import compute_prob"
   ]
  },
  {
   "cell_type": "code",
   "execution_count": 2,
   "metadata": {},
   "outputs": [
    {
     "name": "stdout",
     "output_type": "stream",
     "text": [
      "cf_ganon\n",
      "trials:   115 (n=115)\n",
      "ties:     0 (0.0%)\n",
      "timeouts: 0 (0.0%)\n",
      "p1 win:   15/115 (13.0%)\n",
      "p3 win:   100/115 (87.0%)\n",
      "avg. diff: -1.722\n",
      "\n",
      "dmario_ganon\n",
      "trials:   116 (n=115)\n",
      "ties:     1 (0.9%)\n",
      "timeouts: 1 (0.9%)\n",
      "p1 win:   24/115 (20.9%)\n",
      "p3 win:   91/115 (79.1%)\n",
      "avg. diff: -1.483\n",
      "\n",
      "fox_ganon\n",
      "trials:   76 (n=69)\n",
      "ties:     7 (9.2%)\n",
      "timeouts: 8 (10.5%)\n",
      "p1 win:   9/69 (13.0%)\n",
      "p3 win:   60/69 (87.0%)\n",
      "avg. diff: -1.776\n",
      "\n",
      "ganon_bowser\n",
      "trials:   118 (n=117)\n",
      "ties:     1 (0.8%)\n",
      "timeouts: 2 (1.7%)\n",
      "p1 win:   114/117 (97.4%)\n",
      "p3 win:   3/117 (2.6%)\n",
      "avg. diff: 2.780\n",
      "\n",
      "ganon_dsamus\n",
      "trials:   65 (n=58)\n",
      "ties:     7 (10.8%)\n",
      "timeouts: 10 (15.4%)\n",
      "p1 win:   48/58 (82.8%)\n",
      "p3 win:   10/58 (17.2%)\n",
      "avg. diff: 1.185\n",
      "\n",
      "ganon_falco\n",
      "trials:   126 (n=124)\n",
      "ties:     2 (1.6%)\n",
      "timeouts: 0 (0.0%)\n",
      "p1 win:   118/124 (95.2%)\n",
      "p3 win:   6/124 (4.8%)\n",
      "avg. diff: 2.675\n",
      "\n",
      "ganon_wario\n",
      "trials:   102 (n=92)\n",
      "ties:     10 (9.8%)\n",
      "timeouts: 14 (13.7%)\n",
      "p1 win:   87/92 (94.6%)\n",
      "p3 win:   5/92 (5.4%)\n",
      "avg. diff: 1.951\n",
      "\n",
      "link_ganon\n",
      "trials:   123 (n=123)\n",
      "ties:     0 (0.0%)\n",
      "timeouts: 0 (0.0%)\n",
      "p1 win:   11/123 (8.9%)\n",
      "p3 win:   112/123 (91.1%)\n",
      "avg. diff: -1.797\n",
      "\n",
      "mario_ganon\n",
      "trials:   101 (n=93)\n",
      "ties:     8 (7.9%)\n",
      "timeouts: 15 (14.9%)\n",
      "p1 win:   34/93 (36.6%)\n",
      "p3 win:   59/93 (63.4%)\n",
      "avg. diff: -0.653\n",
      "\n",
      "ness_ganon\n",
      "trials:   43 (n=42)\n",
      "ties:     1 (2.3%)\n",
      "timeouts: 1 (2.3%)\n",
      "p1 win:   17/42 (40.5%)\n",
      "p3 win:   25/42 (59.5%)\n",
      "avg. diff: -0.442\n",
      "\n",
      "pika_ganon\n",
      "trials:   113 (n=111)\n",
      "ties:     2 (1.8%)\n",
      "timeouts: 3 (2.7%)\n",
      "p1 win:   3/111 (2.7%)\n",
      "p3 win:   108/111 (97.3%)\n",
      "avg. diff: -2.434\n",
      "\n",
      "done\n"
     ]
    }
   ],
   "source": [
    "compute_prob([matchup[:-4] for matchup in sorted(os.listdir('videos/')) if 'ganon' in matchup])"
   ]
  },
  {
   "cell_type": "code",
   "execution_count": null,
   "metadata": {},
   "outputs": [],
   "source": []
  },
  {
   "cell_type": "code",
   "execution_count": null,
   "metadata": {},
   "outputs": [],
   "source": []
  }
 ],
 "metadata": {
  "kernelspec": {
   "display_name": "Python 3",
   "language": "python",
   "name": "python3"
  },
  "language_info": {
   "codemirror_mode": {
    "name": "ipython",
    "version": 3
   },
   "file_extension": ".py",
   "mimetype": "text/x-python",
   "name": "python",
   "nbconvert_exporter": "python",
   "pygments_lexer": "ipython3",
   "version": "3.8.5"
  }
 },
 "nbformat": 4,
 "nbformat_minor": 4
}
